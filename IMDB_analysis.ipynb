{
 "cells": [
  {
   "cell_type": "code",
   "execution_count": null,
   "metadata": {},
   "outputs": [],
   "source": [
    "import os\n",
    "k = os.getcwd()\n",
    "print(os.listdir(k))"
   ]
  },
  {
   "cell_type": "code",
   "execution_count": null,
   "metadata": {},
   "outputs": [],
   "source": [
    "#importing CSV file without second row\n",
    "\n",
    "import pandas as pd\n",
    "df = pd.read_csv(\"IMDB_data.csv\", encoding= 'ISO-8859-1' , skiprows=range(2,3))\n",
    "print(type(df))\n",
    "df.head(5)"
   ]
  },
  {
   "cell_type": "code",
   "execution_count": null,
   "metadata": {},
   "outputs": [],
   "source": [
    "# Extracting the unique genres and its count \n",
    "\n",
    "vc = df.Genre.value_counts()  #gives unique genre and thier respective count\n",
    "lis1 = list(vc.index) \n",
    "lis2 = list(vc.values)\n",
    "\n",
    "# Alternatives to get unique values\n",
    "\n",
    "#df.Genre.unique()\n",
    "#pd.unique(df.Genre)\n",
    "#df['Genre'].unique()\n",
    "\n",
    "pd.DataFrame({\"Unique_Genre\":lis1,\"Count\": lis2})  # storing the Series in Dataframe with index\n",
    "\n"
   ]
  },
  {
   "cell_type": "code",
   "execution_count": null,
   "metadata": {},
   "outputs": [],
   "source": [
    "#since all the columns are of dtype object(String) we only need imdbRating  and imdbVotes  as integers for further transformations\n",
    "#converting imdbvotes and imdbRating to numeric\n",
    "df['imdbVotes']= pd.to_numeric(df['imdbVotes'],errors='coerce')\n",
    "df['imdbRating']= pd.to_numeric(df['imdbRating'],errors='coerce')\n",
    "\n",
    "print(\"After conversion\\n\")\n",
    "df.info()"
   ]
  },
  {
   "cell_type": "code",
   "execution_count": null,
   "metadata": {},
   "outputs": [],
   "source": [
    "# Check if any feature has missing values\n",
    "df.notnull().all()\n",
    "\n",
    "# fill missing values with previous record\n",
    "df['imdbRating']= df['imdbRating'].fillna(method = 'pad')\n",
    "df['imdbVotes']= df['imdbVotes'].fillna(method = 'pad')\n",
    "\n",
    "#calculate square of difference of imdbRating and imdbVotes\n",
    "df['Sqr_diff'] = (df['imdbRating']-df['imdbVotes'])**2\n",
    "print(df['Sqr_diff'])"
   ]
  }
 ],
 "metadata": {
  "kernelspec": {
   "display_name": "Python 3",
   "language": "python",
   "name": "python3"
  },
  "language_info": {
   "codemirror_mode": {
    "name": "ipython",
    "version": 3
   },
   "file_extension": ".py",
   "mimetype": "text/x-python",
   "name": "python",
   "nbconvert_exporter": "python",
   "pygments_lexer": "ipython3",
   "version": "3.7.3"
  }
 },
 "nbformat": 4,
 "nbformat_minor": 2
}
